{
 "cells": [
  {
   "cell_type": "markdown",
   "metadata": {},
   "source": [
    "Packages"
   ]
  },
  {
   "cell_type": "code",
   "execution_count": 1,
   "metadata": {},
   "outputs": [],
   "source": [
    "import numpy as np\n",
    "from numpy import linalg as LA\n",
    "from sklearn.model_selection import train_test_split\n",
    "from sklearn import svm\n",
    "from sklearn.model_selection import cross_val_score\n",
    "from sklearn.decomposition import PCA\n",
    "from sklearn.preprocessing import StandardScaler"
   ]
  },
  {
   "cell_type": "markdown",
   "metadata": {},
   "source": [
    "Dataset"
   ]
  },
  {
   "cell_type": "code",
   "execution_count": 2,
   "metadata": {},
   "outputs": [
    {
     "name": "stdout",
     "output_type": "stream",
     "text": [
      "256\n",
      "7291\n"
     ]
    }
   ],
   "source": [
    "import h5py\n",
    "with h5py.File('usps.h5', 'r') as hf:\n",
    "    train = hf.get('train')\n",
    "    X_tr = train.get('data')[:]\n",
    "    y_tr = train.get('target')[:]\n",
    "\n",
    "X = X_tr\n",
    "X = X.astype('float')\n",
    "# StanScal = StandardScaler()\n",
    "# X = StanScal.fit_transform(X)\n",
    "feature_mean = np.mean(X, axis=0)\n",
    "X = X - feature_mean\n",
    "X = X.T\n",
    "d = X.shape[0]\n",
    "N = X.shape[1]\n",
    "print(d)\n",
    "print(N)"
   ]
  },
  {
   "cell_type": "markdown",
   "metadata": {},
   "source": [
    "Functions"
   ]
  },
  {
   "cell_type": "code",
   "execution_count": 3,
   "metadata": {},
   "outputs": [],
   "source": [
    "def norm(x):\n",
    "    return np.sqrt(np.mean(x**2))"
   ]
  },
  {
   "cell_type": "markdown",
   "metadata": {},
   "source": [
    "Number of Selected Features"
   ]
  },
  {
   "cell_type": "code",
   "execution_count": 4,
   "metadata": {},
   "outputs": [],
   "source": [
    "eps = 0.03"
   ]
  },
  {
   "cell_type": "markdown",
   "metadata": {},
   "source": [
    "Selected Features"
   ]
  },
  {
   "cell_type": "code",
   "execution_count": 5,
   "metadata": {},
   "outputs": [],
   "source": [
    "d_j = X.copy()\n",
    "\n",
    "j_ind = int(np.argmax(np.var(d_j,axis=1)))\n",
    "j_max = np.array([j_ind])\n",
    "z = np.array([X[j_ind,:]])\n",
    "d_j[j_ind] = 0\n",
    "z1_hat = z[0]/norm(z[0])\n",
    "F_hat = np.array([z1_hat])\n",
    "\n",
    "eigenvals = np.array(np.max(np.var(X,axis=1)))\n",
    "\n",
    "d_j = d_j - np.matmul(np.array([np.mean(d_j*F_hat[0],axis=1)]).T, np.array([F_hat[0]]))\n",
    "\n",
    "j_ind = int(np.argmax(np.var(d_j,axis=1)))\n",
    "j_max = np.append(j_max, j_ind)\n",
    "z = np.append(z, np.array([X[j_ind,:]]), axis=0)\n",
    "d_j[j_ind] = 0\n",
    "z2_hat = z[1]/norm(z[1])\n",
    "F_hat = np.append(F_hat, np.array([z2_hat]), axis=0)\n",
    "H_1 = np.array([z[0], z[1]])\n",
    "z12 = z[0]*z[1] - np.mean(z[0]*z[1])\n",
    "H_2 = np.array([z12])\n",
    "H_2_j = H_2\n",
    "z12_tilde = z12\n",
    "for i in range(len(F_hat)):\n",
    "    z12_tilde = z12_tilde - np.mean(z12*F_hat[i])*F_hat[i]\n",
    "z12_hat = z12_tilde/norm(z12_tilde)\n",
    "F_hat = np.append(F_hat, np.array([z12_hat]), axis=0)\n",
    "F_j_hat = np.array([z12_hat])\n",
    "\n",
    "for i in range(len(F_hat)):\n",
    "    d_j = d_j - np.matmul(np.array([np.mean(d_j*F_hat[i],axis=1)]).T, np.array([F_hat[i]]))\n",
    "\n",
    "eigenval_j = np.max(np.var(d_j,axis=1))\n",
    "eigenvals = np.append(eigenvals, eigenval_j)\n",
    "counter = 2"
   ]
  },
  {
   "cell_type": "code",
   "execution_count": 6,
   "metadata": {},
   "outputs": [
    {
     "name": "stdout",
     "output_type": "stream",
     "text": [
      "2 : 0.15466043018617723\n",
      "3 : 0.146522183181084\n",
      "4 : 0.13903951113742516\n",
      "5 : 0.13055088207144017\n",
      "6 : 0.12717084013486302\n",
      "7 : 0.11229660264525419\n",
      "8 : 0.10277842020332383\n",
      "9 : 0.09423839989706612\n",
      "10 : 0.09014832553950028\n",
      "11 : 0.08559786879961061\n",
      "12 : 0.07911536091351863\n",
      "13 : 0.07596677669316156\n",
      "14 : 0.07121989719548458\n",
      "15 : 0.0641008880937113\n",
      "16 : 0.059230338364953145\n",
      "17 : 0.05051778249049964\n",
      "18 : 0.04674092851004701\n",
      "19 : 0.04190499849087088\n",
      "20 : 0.03870164067691324\n",
      "21 : 0.034359268025073185\n",
      "22 : 0.03273625173833076\n",
      "23 : 0.03086486403048717\n",
      "24 : 0.030124177838121657\n",
      "25 : 0.028428210385932712\n"
     ]
    }
   ],
   "source": [
    "while eigenval_j>eps:\n",
    "    j_ind = int(np.argmax(np.var(d_j,axis=1)))\n",
    "    j_max = np.append(j_max, j_ind)\n",
    "    z = np.append(z, np.array([X[j_ind,:]]), axis=0)\n",
    "    d_j[j_ind] = 0\n",
    "    z_j = X[j_ind,:]\n",
    "    z_j_tilde = z_j\n",
    "    for F_hat_ind in range(len(F_hat)):\n",
    "        z_j_tilde = z_j_tilde - np.mean(z_j*F_hat[F_hat_ind])*F_hat[F_hat_ind]\n",
    "    z_j_hat = z_j_tilde/norm(z_j_tilde)\n",
    "    F_hat = np.append(F_hat, np.array([z_j_hat]), axis=0)\n",
    "    F_j_hat = np.array([z_j_hat])\n",
    "    H_2_j = np.empty((len(H_1), N))\n",
    "    H_2_j[:] = np.nan\n",
    "    for H_1_ind in range(len(H_1)):\n",
    "        z_j_2 = z_j*H_1[H_1_ind] - np.mean(z_j*H_1[H_1_ind])\n",
    "        H_2_j[H_1_ind] = z_j_2\n",
    "        z_j_2_tilde = z_j_2\n",
    "        for F_hat_ind in range(len(F_hat)):\n",
    "            z_j_2_tilde = z_j_2_tilde - np.mean(z_j_2*F_hat[F_hat_ind])*F_hat[F_hat_ind]\n",
    "        z_j_2_hat = z_j_2_tilde/norm(z_j_2_tilde)\n",
    "        F_hat = np.append(F_hat, np.array([z_j_2_hat]), axis=0)\n",
    "        F_j_hat = np.append(F_j_hat, np.array([z_j_2_hat]), axis=0)\n",
    "    H_1 = np.append(H_1, np.array([z_j]), axis=0)\n",
    "\n",
    "    H_3_j = np.empty((len(H_2), N))\n",
    "    H_3_j[:] = np.nan\n",
    "    for H_2_ind in range(len(H_2)):\n",
    "        z_j_3 = z_j*H_2[H_2_ind]\n",
    "        H_3_j[H_2_ind] = z_j_3\n",
    "        z_j_3_tilde = z_j_3\n",
    "        for F_hat_ind in range(len(F_hat)):\n",
    "            z_j_3_tilde = z_j_3_tilde - np.mean(z_j_3*F_hat[F_hat_ind])*F_hat[F_hat_ind]\n",
    "        z_j_3_hat = z_j_3_tilde/norm(z_j_3_tilde)\n",
    "        F_hat = np.append(F_hat, np.array([z_j_3_hat]), axis=0)\n",
    "        F_j_hat = np.append(F_j_hat, np.array([z_j_3_hat]), axis=0)\n",
    "    H_2 = np.append(H_2, H_2_j, axis=0)\n",
    "\n",
    "    for i in range(len(F_j_hat)):\n",
    "        d_j = d_j - np.matmul(np.array([np.mean(d_j*F_j_hat[i],axis=1)]).T, np.array([F_j_hat[i]]))\n",
    "\n",
    "    eigenval_j = np.max(np.var(d_j,axis=1))\n",
    "    eigenvals = np.append(eigenvals, eigenval_j)\n",
    "    print(counter, ':', eigenval_j)\n",
    "    counter = counter + 1\n",
    "    # if counter>50:\n",
    "    #     break"
   ]
  },
  {
   "cell_type": "code",
   "execution_count": 7,
   "metadata": {},
   "outputs": [
    {
     "data": {
      "text/plain": [
       "(26,)"
      ]
     },
     "execution_count": 7,
     "metadata": {},
     "output_type": "execute_result"
    }
   ],
   "source": [
    "j_max.shape"
   ]
  },
  {
   "cell_type": "code",
   "execution_count": 8,
   "metadata": {},
   "outputs": [
    {
     "data": {
      "text/plain": [
       "array([229,  55,  68, 105,  26, 201, 134, 107, 153, 101,  59,  38, 197,\n",
       "         8, 171,  51,  57, 248, 179, 214, 151, 115,  88,  21, 203, 139])"
      ]
     },
     "execution_count": 8,
     "metadata": {},
     "output_type": "execute_result"
    }
   ],
   "source": [
    "j_max"
   ]
  },
  {
   "cell_type": "code",
   "execution_count": 9,
   "metadata": {},
   "outputs": [],
   "source": [
    "del train, X_tr, y_tr, h5py, hf\n",
    "import dill\n",
    "dill.dump_session('GFS-USPS-2.pkl')"
   ]
  },
  {
   "cell_type": "code",
   "execution_count": null,
   "metadata": {},
   "outputs": [],
   "source": []
  }
 ],
 "metadata": {
  "kernelspec": {
   "display_name": "FS",
   "language": "python",
   "name": "fs"
  },
  "language_info": {
   "codemirror_mode": {
    "name": "ipython",
    "version": 3
   },
   "file_extension": ".py",
   "mimetype": "text/x-python",
   "name": "python",
   "nbconvert_exporter": "python",
   "pygments_lexer": "ipython3",
   "version": "3.10.10"
  },
  "orig_nbformat": 4
 },
 "nbformat": 4,
 "nbformat_minor": 2
}
